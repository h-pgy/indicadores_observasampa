{
 "cells": [
  {
   "cell_type": "code",
   "execution_count": 14,
   "id": "0813127f-400f-4578-9c1c-90b9bda9389e",
   "metadata": {},
   "outputs": [],
   "source": [
    "from get_data.servidores_ativos import GetServidoresAtivos\n",
    "import pandas as pd"
   ]
  },
  {
   "cell_type": "code",
   "execution_count": 2,
   "id": "0437b2dc-4f0e-4736-84c0-ef6ef2fbf05c",
   "metadata": {},
   "outputs": [],
   "source": [
    "baixar_servidores_ativos = GetServidoresAtivos()"
   ]
  },
  {
   "cell_type": "code",
   "execution_count": 3,
   "id": "3af9a8cc-7f9b-4746-b772-fffe5464e19c",
   "metadata": {},
   "outputs": [],
   "source": [
    "todos_recursos = baixar_servidores_ativos.recursos"
   ]
  },
  {
   "cell_type": "code",
   "execution_count": 4,
   "id": "40a7aae4-5798-4343-979e-bdcf6f625ef8",
   "metadata": {},
   "outputs": [],
   "source": [
    "meses_de_dezembro = [rec for rec in todos_recursos if 'dezembro' in rec['description']]"
   ]
  },
  {
   "cell_type": "code",
   "execution_count": 43,
   "id": "37ad7984-aed7-4794-a521-54218bce3c2c",
   "metadata": {},
   "outputs": [
    {
     "name": "stdout",
     "output_type": "stream",
     "text": [
      "Carregando arquivo ja salvo: original_data/servidores_ativos_dezembro de 2020.csv\n",
      "Carregando arquivo ja salvo: original_data/servidores_ativos_dezembro de 2019.csv\n",
      "Carregando arquivo ja salvo: original_data/servidores_ativos_dezembro de 2018.csv\n",
      "Carregando arquivo ja salvo: original_data/servidores_ativos_dezembro de 2017.csv\n",
      "Carregando arquivo ja salvo: original_data/servidores_ativos_dezembro de 2016..csv\n",
      "Carregando arquivo ja salvo: original_data/servidores_ativos_dezembro de 2015..csv\n"
     ]
    },
    {
     "name": "stderr",
     "output_type": "stream",
     "text": [
      "/home/h-pgy/Desktop/Projetos/indicadores_observasampa/get_data/portal_dados_abertos.py:191: DtypeWarning: Columns (9,10,11) have mixed types.Specify dtype option on import or set low_memory=False.\n",
      "  return self.load_saved_csv_resource(saved_file)\n"
     ]
    }
   ],
   "source": [
    "dfs = []\n",
    "for rec in meses_de_dezembro:\n",
    "    df = baixar_servidores_ativos(rec)\n",
    "    df['ANO'] = int(rec['description'][-5:].replace('.', ''))\n",
    "    dfs.append(df)"
   ]
  },
  {
   "cell_type": "code",
   "execution_count": 44,
   "id": "39530b0d-2f71-48ba-9738-11005f588fad",
   "metadata": {},
   "outputs": [],
   "source": [
    "df_geral = pd.concat(dfs)"
   ]
  },
  {
   "cell_type": "code",
   "execution_count": 45,
   "id": "05387ce4-4131-4f99-80b4-f258bece0109",
   "metadata": {},
   "outputs": [],
   "source": [
    "df_geral['count'] = 1"
   ]
  },
  {
   "cell_type": "code",
   "execution_count": 46,
   "id": "26f63f97-b2fb-4017-9034-26f8c80b2d20",
   "metadata": {},
   "outputs": [],
   "source": [
    "agrupado = df_geral.groupby(['ANO', 'RACA']).count()[['count']]"
   ]
  },
  {
   "cell_type": "code",
   "execution_count": 53,
   "id": "12436ad5-c842-42ba-a1cb-b099cc7548ab",
   "metadata": {},
   "outputs": [],
   "source": [
    "agrupado['total_servidores_ano'] = 0\n",
    "for ano in range(2015, 2021):\n",
    "    agrupado_ano = agrupado.loc[ano]\n",
    "    total_servidores = agrupado_ano['count'].sum()\n",
    "    agrupado.loc[ano, 'total_servidores_ano'] = total_servidores"
   ]
  },
  {
   "cell_type": "code",
   "execution_count": 63,
   "id": "53b1636c-7f69-4a8b-8a51-51d50aba90b9",
   "metadata": {},
   "outputs": [],
   "source": [
    "agrupado['percentual'] = round(agrupado['count']/agrupado['total_servidores_ano']*100, 2)"
   ]
  },
  {
   "cell_type": "code",
   "execution_count": 65,
   "id": "4fb3e1a5-a7f5-4cae-b9d2-7e7816ac091a",
   "metadata": {},
   "outputs": [],
   "source": [
    "agrupado.to_excel('distribuicao_servidores_ativos_por_raca.xlsx')"
   ]
  },
  {
   "cell_type": "code",
   "execution_count": null,
   "id": "a4043170-b022-4241-93fa-623dae7c75dd",
   "metadata": {},
   "outputs": [],
   "source": []
  }
 ],
 "metadata": {
  "kernelspec": {
   "display_name": "Python 3",
   "language": "python",
   "name": "python3"
  },
  "language_info": {
   "codemirror_mode": {
    "name": "ipython",
    "version": 3
   },
   "file_extension": ".py",
   "mimetype": "text/x-python",
   "name": "python",
   "nbconvert_exporter": "python",
   "pygments_lexer": "ipython3",
   "version": "3.8.8"
  }
 },
 "nbformat": 4,
 "nbformat_minor": 5
}
